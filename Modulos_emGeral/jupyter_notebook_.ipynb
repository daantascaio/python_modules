{
 "cells": [
  {
   "cell_type": "markdown",
   "id": "3e26dd02-8d37-42de-b7de-18783b86e200",
   "metadata": {},
   "source": [
    "# Esse é o meu título\n",
    "Essa linha cria uma variável `a`."
   ]
  },
  {
   "cell_type": "code",
   "execution_count": 5,
   "id": "43b83fbe-f641-4379-8614-f4fc99a91f43",
   "metadata": {},
   "outputs": [],
   "source": [
    "a = 2"
   ]
  },
  {
   "cell_type": "markdown",
   "id": "8bc3be0b-8041-45ea-bc92-46568e7ec461",
   "metadata": {},
   "source": [
    "Essa linha tem o valor da variável `a` em dobro\n"
   ]
  },
  {
   "cell_type": "code",
   "execution_count": 6,
   "id": "1ef90232-5a68-4195-b686-5d7420259535",
   "metadata": {},
   "outputs": [
    {
     "data": {
      "text/plain": [
       "4"
      ]
     },
     "execution_count": 6,
     "metadata": {},
     "output_type": "execute_result"
    }
   ],
   "source": [
    "b = a * 2\n",
    "b"
   ]
  },
  {
   "cell_type": "code",
   "execution_count": null,
   "id": "16321b3d-31f9-42e8-81c6-a6768bda22b4",
   "metadata": {},
   "outputs": [],
   "source": []
  },
  {
   "cell_type": "code",
   "execution_count": null,
   "id": "4278da7c-00e5-4262-9ef9-864cb8ef1239",
   "metadata": {},
   "outputs": [],
   "source": []
  }
 ],
 "metadata": {
  "kernelspec": {
   "display_name": "Python 3 (ipykernel)",
   "language": "python",
   "name": "python3"
  },
  "language_info": {
   "codemirror_mode": {
    "name": "ipython",
    "version": 3
   },
   "file_extension": ".py",
   "mimetype": "text/x-python",
   "name": "python",
   "nbconvert_exporter": "python",
   "pygments_lexer": "ipython3",
   "version": "3.11.5"
  }
 },
 "nbformat": 4,
 "nbformat_minor": 5
}
