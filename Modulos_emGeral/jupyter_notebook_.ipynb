{
 "cells": [
  {
   "cell_type": "markdown",
   "id": "3e26dd02-8d37-42de-b7de-18783b86e200",
   "metadata": {},
   "source": [
    "# Esse é o meu título\n",
    "Essa linha cria uma variável `a`."
   ]
  },
  {
   "cell_type": "code",
   "execution_count": 5,
   "id": "43b83fbe-f641-4379-8614-f4fc99a91f43",
   "metadata": {},
   "outputs": [],
   "source": [
    "a = 2"
   ]
  },
  {
   "cell_type": "markdown",
   "id": "8bc3be0b-8041-45ea-bc92-46568e7ec461",
   "metadata": {},
   "source": [
    "Essa linha tem o valor da variável `a` em dobro\n"
   ]
  },
  {
   "cell_type": "code",
   "execution_count": 6,
   "id": "1ef90232-5a68-4195-b686-5d7420259535",
   "metadata": {},
   "outputs": [
    {
     "data": {
      "text/plain": [
       "4"
      ]
     },
     "execution_count": 6,
     "metadata": {},
     "output_type": "execute_result"
    }
   ],
   "source": [
    "b = a * 2\n",
    "b"
   ]
  },
  {
   "cell_type": "markdown",
   "id": "8b19fc43-f0f1-4151-8b3f-7f272b6ded98",
   "metadata": {},
   "source": [
    "Essa linha mostra o valor de `a` + `b`\n"
   ]
  },
  {
   "cell_type": "code",
   "execution_count": 7,
   "id": "7173b963-080f-4be1-abf0-97a9caf456a2",
   "metadata": {},
   "outputs": [
    {
     "name": "stdout",
     "output_type": "stream",
     "text": [
      "6\n"
     ]
    }
   ],
   "source": [
    "print(a + b)  # 6\n"
   ]
  },
  {
   "cell_type": "code",
   "execution_count": null,
   "id": "8b0ba29c-35af-4fdc-903a-d85e93c9b97d",
   "metadata": {},
   "outputs": [],
   "source": []
  }
 ],
 "metadata": {
  "kernelspec": {
   "display_name": "Python 3 (ipykernel)",
   "language": "python",
   "name": "python3"
  },
  "language_info": {
   "codemirror_mode": {
    "name": "ipython",
    "version": 3
   },
   "file_extension": ".py",
   "mimetype": "text/x-python",
   "name": "python",
   "nbconvert_exporter": "python",
   "pygments_lexer": "ipython3",
   "version": "3.11.5"
  }
 },
 "nbformat": 4,
 "nbformat_minor": 5
}
